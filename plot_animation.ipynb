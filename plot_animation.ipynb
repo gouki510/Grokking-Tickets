{
 "cells": [
  {
   "cell_type": "code",
   "execution_count": 2,
   "metadata": {},
   "outputs": [],
   "source": [
    "import numpy as np\n",
    "import matplotlib.pyplot as plt\n",
    "import matplotlib.animation as animation\n",
    "from IPython.display import HTML\n",
    "from matplotlib import rc\n",
    "import io\n",
    "import cv2\n"
   ]
  },
  {
   "cell_type": "code",
   "execution_count": 3,
   "metadata": {},
   "outputs": [],
   "source": [
    "def show_animiation(plot_data, data1, data2,  fname=\"test\"):\n",
    "    rc(\"animation\", html=\"jshtml\")\n",
    "    fig, ax = plt.subplots(1,2)\n",
    "    frames = [\n",
    "        [ax[0].imshow(data1[i], \"gray\"), ax[1].imshow(data2)] for i in range(len(data1))\n",
    "    ]\n",
    "    ani = animation.ArtistAnimation(fig, artists=frames,  interval=150, blit=True)\n",
    "    ani.save(\"{}.gif\".format(fname), writer=\"pillow\")\n",
    "    plt.close()\n",
    "    return ani"
   ]
  },
  {
   "cell_type": "code",
   "execution_count": null,
   "metadata": {},
   "outputs": [],
   "source": [
    "path = "
   ]
  }
 ],
 "metadata": {
  "kernelspec": {
   "display_name": "grok",
   "language": "python",
   "name": "python3"
  },
  "language_info": {
   "codemirror_mode": {
    "name": "ipython",
    "version": 3
   },
   "file_extension": ".py",
   "mimetype": "text/x-python",
   "name": "python",
   "nbconvert_exporter": "python",
   "pygments_lexer": "ipython3",
   "version": "3.9.0"
  }
 },
 "nbformat": 4,
 "nbformat_minor": 2
}
